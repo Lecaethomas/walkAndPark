{
 "cells": [
  {
   "cell_type": "code",
   "execution_count": 2,
   "metadata": {},
   "outputs": [
    {
     "ename": "NameError",
     "evalue": "name '__file__' is not defined",
     "output_type": "error",
     "traceback": [
      "\u001b[1;31m---------------------------------------------------------------------------\u001b[0m",
      "\u001b[1;31mNameError\u001b[0m                                 Traceback (most recent call last)",
      "Cell \u001b[1;32mIn[2], line 8\u001b[0m\n\u001b[0;32m      5\u001b[0m \u001b[39mfrom\u001b[39;00m \u001b[39mstreamlit_folium\u001b[39;00m \u001b[39mimport\u001b[39;00m folium_static\n\u001b[0;32m      7\u001b[0m \u001b[39m# Get the absolute path of the current directory\u001b[39;00m\n\u001b[1;32m----> 8\u001b[0m current_dir \u001b[39m=\u001b[39m os\u001b[39m.\u001b[39mpath\u001b[39m.\u001b[39mdirname(os\u001b[39m.\u001b[39mpath\u001b[39m.\u001b[39mabspath(\u001b[39m__file__\u001b[39;49m))\n\u001b[0;32m     10\u001b[0m \u001b[39m# Load the result GeoDataFrame from the shapefile\u001b[39;00m\n\u001b[0;32m     11\u001b[0m result_shapefile_path \u001b[39m=\u001b[39m os\u001b[39m.\u001b[39mpath\u001b[39m.\u001b[39mjoin(current_dir, \u001b[39m\"\u001b[39m\u001b[39mdata\u001b[39m\u001b[39m\"\u001b[39m, \u001b[39m\"\u001b[39m\u001b[39mgrid_walk_results.shp\u001b[39m\u001b[39m\"\u001b[39m)  \u001b[39m# Change the file name to your polygons shapefile\u001b[39;00m\n",
      "\u001b[1;31mNameError\u001b[0m: name '__file__' is not defined"
     ]
    }
   ],
   "source": [
    "import os\n",
    "import streamlit as st\n",
    "import folium\n",
    "import geopandas as gpd\n",
    "from streamlit_folium import folium_static\n",
    "\n",
    "# Get the absolute path of the current directory\n",
    "current_dir = os.path.dirname(os.path.abspath(__file__))\n",
    "\n",
    "# Load the result GeoDataFrame from the shapefile\n",
    "result_shapefile_path = os.path.join(current_dir, \"data\", \"grid_walk_results.shp\")  # Change the file name to your polygons shapefile\n",
    "result_gdf = gpd.read_file(result_shapefile_path)\n",
    "\n",
    "# Load the park GeoDataFrame from the shapefile\n",
    "park_shapefile_path = os.path.join(current_dir, \"data\", \"public_parks_.shp\")\n",
    "park_gdf = gpd.read_file(park_shapefile_path)\n",
    " \n",
    "# Create a folium map centered at the centroid of the first polygon in result_gdf\n",
    "m = folium.Map(location= [43.600000 , 1.433333], zoom_start=12)\n",
    "\n",
    "\n",
    "# Create a colormap for the walking times (gradient of reds)\n",
    "min_walking_time = result_gdf[\"walking_ti\"].min()\n",
    "max_walking_time = result_gdf[\"walking_ti\"].max()\n",
    "color_scale = folium.LinearColormap(colors=['#ffffd4', '#fed98e', '#fe9929', '#d95f0e', '#993404'], vmin=min_walking_time, vmax=max_walking_time)\n",
    "\n",
    "# Create a folium layer for the parks\n",
    "parks_layer = folium.FeatureGroup(name=\"Parcs\")\n",
    "\n",
    "# Add park polygons to the parks_layer\n",
    "for idx, row in park_gdf.iterrows():\n",
    "    park_id = row[\"id\"]\n",
    "    park_polygon = row.geometry\n",
    "    folium.GeoJson(\n",
    "        park_polygon.__geo_interface__,\n",
    "        style_function=lambda x: {\"fillColor\": \"transparent\", \"color\": \"blue\", \"weight\": 2},\n",
    "        tooltip=f\"Identifiant du parc: {park_id}\",\n",
    "        name=f\"Park {park_id}\",\n",
    "    ).add_to(parks_layer)\n",
    "\n",
    "# Create another folium layer for the walking times\n",
    "walk_times_layer = folium.FeatureGroup(name=\"Temps à pieds\")\n",
    "\n",
    "# Add the polygons with walking times to the walk_times_layer\n",
    "for idx, row in result_gdf.iterrows():\n",
    "    polygon = row.geometry\n",
    "    walking_time = row[\"walking_ti\"]\n",
    "    park_cor = row[\"park_id\"]\n",
    "    folium.GeoJson(\n",
    "        polygon.__geo_interface__,\n",
    "        style_function=lambda x, walking_time=walking_time: {\n",
    "            \"fillColor\": color_scale(walking_time),\n",
    "            \"color\": color_scale(walking_time),\n",
    "            \"weight\": 2,\n",
    "            \"fillOpacity\": 0.7,\n",
    "        },\n",
    "        tooltip=f\"Temps à pieds {walking_time} secondes  <br> Identifiant du parc correspondant : {park_cor}\",\n",
    "    ).add_to(walk_times_layer)\n",
    "\n",
    "# Add the parks_layer and walk_times_layer to the map\n",
    "parks_layer.add_to(m)\n",
    "walk_times_layer.add_to(m)\n",
    "\n",
    "# Add the colormap to the map\n",
    "color_scale.caption = \"Temps à pieds (secondes)\"\n",
    "color_scale.add_to(m)\n",
    "\n",
    "# Add the layer control to the map\n",
    "folium.LayerControl().add_to(m)\n",
    "folium_static(m)"
   ]
  }
 ],
 "metadata": {
  "kernelspec": {
   "display_name": "parkwalk",
   "language": "python",
   "name": "python3"
  },
  "language_info": {
   "codemirror_mode": {
    "name": "ipython",
    "version": 3
   },
   "file_extension": ".py",
   "mimetype": "text/x-python",
   "name": "python",
   "nbconvert_exporter": "python",
   "pygments_lexer": "ipython3",
   "version": "3.11.4"
  },
  "orig_nbformat": 4
 },
 "nbformat": 4,
 "nbformat_minor": 2
}
