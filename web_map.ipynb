{
 "cells": [
  {
   "cell_type": "code",
   "execution_count": 16,
   "metadata": {},
   "outputs": [
    {
     "name": "stderr",
     "output_type": "stream",
     "text": [
      "C:\\Users\\tlecae\\AppData\\Local\\Temp\\ipykernel_4828\\1816617874.py:14: UserWarning: Geometry is in a geographic CRS. Results from 'centroid' are likely incorrect. Use 'GeoSeries.to_crs()' to re-project geometries to a projected CRS before this operation.\n",
      "\n",
      "  m = folium.Map(location=[result_gdf[\"geometry\"].centroid.y.mean(), result_gdf[\"geometry\"].centroid.x.mean()], zoom_start=12)\n"
     ]
    },
    {
     "data": {
      "text/html": [
       "\n",
       "        <iframe\n",
       "            width=\"100%\"\n",
       "            height=\"500\"\n",
       "            src=\"park_walk_map.html\"\n",
       "            frameborder=\"0\"\n",
       "            allowfullscreen\n",
       "            \n",
       "        ></iframe>\n",
       "        "
      ],
      "text/plain": [
       "<IPython.lib.display.IFrame at 0x268dfb114d0>"
      ]
     },
     "execution_count": 16,
     "metadata": {},
     "output_type": "execute_result"
    }
   ],
   "source": [
    "import geopandas as gpd\n",
    "import folium\n",
    "from IPython.display import IFrame\n",
    "\n",
    "# Load the result GeoDataFrame from the shapefile\n",
    "result_shapefile_path = \"C:\\_DEV\\CODE\\DIVERS\\python\\_Park&walk\\points_walk_results.shp\"\n",
    "result_gdf = gpd.read_file(result_shapefile_path)\n",
    "\n",
    "# Load the park GeoDataFrame from the shapefile\n",
    "park_shapefile_path = \"C:\\_DEV\\CODE\\DIVERS\\python\\_Park&walk\\public_parks.shp\"\n",
    "park_gdf = gpd.read_file(park_shapefile_path)\n",
    "\n",
    "# Create a folium map centered at the mean of the result points\n",
    "m = folium.Map(location=[result_gdf[\"geometry\"].centroid.y.mean(), result_gdf[\"geometry\"].centroid.x.mean()], zoom_start=12)\n",
    "\n",
    "# Create a colormap for the walking times (gradient of reds)\n",
    "min_walking_time = result_gdf[\"walking_ti\"].min()\n",
    "max_walking_time = result_gdf[\"walking_ti\"].max()\n",
    "color_scale = folium.LinearColormap(colors=[\"green\", \"yellow\", \"red\"], vmin=min_walking_time, vmax=max_walking_time)\n",
    "\n",
    "# Add the points with walking times to the map\n",
    "for idx, row in result_gdf.iterrows():\n",
    "    point = row.geometry\n",
    "    walking_time = row[\"walking_ti\"]\n",
    "    folium.CircleMarker(\n",
    "        location=[point.y, point.x],\n",
    "        radius=6,\n",
    "        popup=f\"Walking Time: {walking_time} seconds\",\n",
    "        fill=True,\n",
    "        fill_color=color_scale(walking_time),\n",
    "        color=color_scale(walking_time),\n",
    "        fill_opacity=0.7,\n",
    "    ).add_to(m)\n",
    "\n",
    "# Add park polygons to the map\n",
    "for idx, row in park_gdf.iterrows():\n",
    "    park_id = row[\"id\"]\n",
    "    park_polygon = row.geometry.__geo_interface__\n",
    "    folium.GeoJson(\n",
    "        park_polygon,\n",
    "        style_function=lambda x: {\"fillColor\": \"transparent\", \"color\": \"blue\", \"weight\": 2},\n",
    "        tooltip=f\"Park ID: {park_id}\",\n",
    "        name=f\"Park {park_id}\",\n",
    "    ).add_to(m)\n",
    "\n",
    "# Add the colormap to the map\n",
    "color_scale.caption = \"Walking Time (seconds)\"\n",
    "color_scale.add_to(m)\n",
    "\n",
    "# Save the folium map as an HTML file\n",
    "map_html_file = \"park_walk_map.html\"\n",
    "m.save(map_html_file)\n",
    "\n",
    "# Display the folium map in the Jupyter Notebook using an IFrame\n",
    "IFrame(map_html_file, width=\"100%\", height=500)\n"
   ]
  }
 ],
 "metadata": {
  "kernelspec": {
   "display_name": "parkwalk",
   "language": "python",
   "name": "python3"
  },
  "language_info": {
   "codemirror_mode": {
    "name": "ipython",
    "version": 3
   },
   "file_extension": ".py",
   "mimetype": "text/x-python",
   "name": "python",
   "nbconvert_exporter": "python",
   "pygments_lexer": "ipython3",
   "version": "3.11.4"
  },
  "orig_nbformat": 4
 },
 "nbformat": 4,
 "nbformat_minor": 2
}
